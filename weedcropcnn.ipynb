{
 "cells": [
  {
   "cell_type": "code",
   "execution_count": 1,
   "metadata": {},
   "outputs": [],
   "source": [
    "import os\n",
    "#Creating directorios\n",
    "base_dir = './weedandcrops'\n",
    "os.makedirs(base_dir, exist_ok=True)"
   ]
  },
  {
   "cell_type": "code",
   "execution_count": 2,
   "metadata": {},
   "outputs": [],
   "source": [
    "#train,testing\n",
    "train_dir = os.path.join(base_dir, 'train')\n",
    "os.makedirs(train_dir, exist_ok=True)\n",
    "\n",
    "test_dir = os.path.join(base_dir, 'test')\n",
    "os.makedirs(test_dir, exist_ok=True)"
   ]
  },
  {
   "cell_type": "code",
   "execution_count": 3,
   "metadata": {},
   "outputs": [],
   "source": [
    "#training\n",
    "train_grass_dir = os.path.join(train_dir, 'grass')\n",
    "os.makedirs(train_grass_dir, exist_ok=True)\n",
    "\n",
    "train_soil_dir = os.path.join(train_dir, 'soil')\n",
    "os.makedirs(train_soil_dir, exist_ok=True)\n",
    "\n",
    "train_soybean_dir = os.path.join(train_dir, 'soybean')\n",
    "os.makedirs(train_soybean_dir, exist_ok=True)\n",
    "\n",
    "train_broadleaf_dir = os.path.join(train_dir, 'broadleaf')\n",
    "os.makedirs(train_broadleaf_dir, exist_ok=True)\n",
    "\n",
    "train_maize_dir = os.path.join(train_dir, 'maize')\n",
    "os.makedirs(train_maize_dir, exist_ok=True)\n",
    "\n",
    "train_paragrass_dir = os.path.join(train_dir, 'paragrass')\n",
    "os.makedirs(train_paragrass_dir, exist_ok=True)\n",
    "\n",
    "train_nutsedge_dir = os.path.join(train_dir, 'nutsedge')\n",
    "os.makedirs(train_nutsedge_dir, exist_ok=True)\n"
   ]
  },
  {
   "cell_type": "code",
   "execution_count": 4,
   "metadata": {},
   "outputs": [],
   "source": [
    "#testing\n",
    "test_grass_dir = os.path.join(test_dir, 'grass')\n",
    "os.makedirs(test_grass_dir, exist_ok=True)\n",
    "\n",
    "test_soil_dir = os.path.join(test_dir, 'soil')\n",
    "os.makedirs(test_soil_dir, exist_ok=True)\n",
    "\n",
    "test_soybean_dir = os.path.join(test_dir, 'soybean')\n",
    "os.makedirs(test_soybean_dir, exist_ok=True)\n",
    "\n",
    "test_broadleaf_dir = os.path.join(test_dir, 'broadleaf')\n",
    "os.makedirs(test_broadleaf_dir, exist_ok=True)\n",
    "\n",
    "test_maize_dir = os.path.join(test_dir, 'maize')\n",
    "os.makedirs(test_maize_dir, exist_ok=True)\n",
    "\n",
    "test_paragrass_dir = os.path.join(test_dir, 'paragrass')\n",
    "os.makedirs(test_paragrass_dir, exist_ok=True)\n",
    "\n",
    "test_nutsedge_dir = os.path.join(test_dir, 'nutsedge')\n",
    "os.makedirs(test_nutsedge_dir, exist_ok=True)"
   ]
  },
  {
   "cell_type": "code",
   "execution_count": 5,
   "metadata": {},
   "outputs": [],
   "source": [
    "import shutil\n",
    "original_dataset_dir_soil = './dataset/soil'\n",
    "original_dataset_dir_soybean = './dataset/soybean'\n",
    "original_dataset_dir_grass = './dataset/grass'\n",
    "original_dataset_dir_broadleaf = './dataset/broadleaf'\n",
    "original_dataset_dir_maize = './dataset/maize'\n",
    "original_dataset_dir_paragrass = './dataset/paragrass'\n",
    "original_dataset_dir_nutsedge = './dataset/nutsedge'"
   ]
  },
  {
   "cell_type": "code",
   "execution_count": 6,
   "metadata": {},
   "outputs": [],
   "source": [
    "####SOIL####\n",
    "fnames = ['{}.tif'.format(i) for i in range(1,41)]\n",
    "for fname in fnames:\n",
    "    src = os.path.join(original_dataset_dir_soil, fname)\n",
    "    dst = os.path.join(train_soil_dir, fname)\n",
    "    shutil.copyfile(src, dst)\n",
    "    \n",
    "fnames = ['{}.tif'.format(i) for i in range(41, 51)]\n",
    "for fname in fnames:\n",
    "    src = os.path.join(original_dataset_dir_soil, fname)\n",
    "    dst = os.path.join(test_soil_dir, fname)\n",
    "    shutil.copyfile(src, dst)"
   ]
  },
  {
   "cell_type": "code",
   "execution_count": 7,
   "metadata": {},
   "outputs": [],
   "source": [
    "####SOYBEAN####\n",
    "fnames = ['{}.tif'.format(i) for i in range(1,41)]\n",
    "for fname in fnames:\n",
    "    src = os.path.join(original_dataset_dir_soybean, fname)\n",
    "    dst = os.path.join(train_soybean_dir, fname)\n",
    "    shutil.copyfile(src, dst)\n",
    "    \n",
    "fnames = ['{}.tif'.format(i) for i in range(41, 51)]\n",
    "for fname in fnames:\n",
    "    src = os.path.join(original_dataset_dir_soybean, fname)\n",
    "    dst = os.path.join(test_soybean_dir, fname)\n",
    "    shutil.copyfile(src, dst)"
   ]
  },
  {
   "cell_type": "code",
   "execution_count": 8,
   "metadata": {},
   "outputs": [],
   "source": [
    "####BRODLEAF####\n",
    "fnames = ['{}.tif'.format(i) for i in range(1,41)]\n",
    "for fname in fnames:\n",
    "    src = os.path.join(original_dataset_dir_broadleaf, fname)\n",
    "    dst = os.path.join(train_broadleaf_dir, fname)\n",
    "    shutil.copyfile(src, dst)\n",
    "\n",
    "fnames = ['{}.tif'.format(i) for i in range(41, 51)]\n",
    "for fname in fnames:\n",
    "    src = os.path.join(original_dataset_dir_broadleaf, fname)\n",
    "    dst = os.path.join(test_broadleaf_dir, fname)\n",
    "    shutil.copyfile(src, dst)"
   ]
  },
  {
   "cell_type": "code",
   "execution_count": 9,
   "metadata": {},
   "outputs": [],
   "source": [
    "####GRASS####\n",
    "fnames = ['{}.tif'.format(i) for i in range(1,41)]\n",
    "for fname in fnames:\n",
    "    src = os.path.join(original_dataset_dir_grass, fname)\n",
    "    dst = os.path.join(train_grass_dir, fname)\n",
    "    shutil.copyfile(src, dst)\n",
    "\n",
    "fnames = ['{}.tif'.format(i) for i in range(41, 51)]\n",
    "for fname in fnames:\n",
    "    src = os.path.join(original_dataset_dir_grass, fname)\n",
    "    dst = os.path.join(test_grass_dir, fname)\n",
    "    shutil.copyfile(src, dst)"
   ]
  },
  {
   "cell_type": "code",
   "execution_count": 10,
   "metadata": {},
   "outputs": [],
   "source": [
    "####MAIZE####\n",
    "fnames = ['m{}.jpg'.format(i) for i in range(1,21)]\n",
    "for fname in fnames:\n",
    "    src = os.path.join(original_dataset_dir_maize, fname)\n",
    "    dst = os.path.join(train_maize_dir, fname)\n",
    "    shutil.copyfile(src, dst)\n",
    "\n",
    "fnames = ['m{}.jpg'.format(i) for i in range(21, 26)]\n",
    "for fname in fnames:\n",
    "    src = os.path.join(original_dataset_dir_maize, fname)\n",
    "    dst = os.path.join(test_maize_dir, fname)\n",
    "    shutil.copyfile(src, dst)"
   ]
  },
  {
   "cell_type": "code",
   "execution_count": 11,
   "metadata": {},
   "outputs": [],
   "source": [
    "####PARAGRASS####\n",
    "fnames = ['pg{}.jpg'.format(i) for i in range(1,21)]\n",
    "for fname in fnames:\n",
    "    src = os.path.join(original_dataset_dir_paragrass, fname)\n",
    "    dst = os.path.join(train_paragrass_dir, fname)\n",
    "    shutil.copyfile(src, dst)\n",
    "\n",
    "fnames = ['pg{}.jpg'.format(i) for i in range(21, 26)]\n",
    "for fname in fnames:\n",
    "    src = os.path.join(original_dataset_dir_paragrass, fname)\n",
    "    dst = os.path.join(test_paragrass_dir, fname)\n",
    "    shutil.copyfile(src, dst)"
   ]
  },
  {
   "cell_type": "code",
   "execution_count": 12,
   "metadata": {},
   "outputs": [],
   "source": [
    "####NUTSEDGE####\n",
    "fnames = ['n{}.jpg'.format(i) for i in range(1,21)]\n",
    "for fname in fnames:\n",
    "    src = os.path.join(original_dataset_dir_nutsedge, fname)\n",
    "    dst = os.path.join(train_nutsedge_dir, fname)\n",
    "    shutil.copyfile(src, dst)\n",
    "\n",
    "fnames = ['n{}.jpg'.format(i) for i in range(21, 26)]\n",
    "for fname in fnames:\n",
    "    src = os.path.join(original_dataset_dir_nutsedge, fname)\n",
    "    dst = os.path.join(test_nutsedge_dir, fname)\n",
    "    shutil.copyfile(src, dst)"
   ]
  },
  {
   "cell_type": "code",
   "execution_count": 13,
   "metadata": {},
   "outputs": [
    {
     "name": "stderr",
     "output_type": "stream",
     "text": [
      "Using TensorFlow backend.\n"
     ]
    }
   ],
   "source": [
    "import keras\n",
    "keras.__version__\n",
    "from keras import layers\n",
    "from keras import models\n",
    "from keras import optimizers"
   ]
  },
  {
   "cell_type": "code",
   "execution_count": 14,
   "metadata": {},
   "outputs": [
    {
     "name": "stdout",
     "output_type": "stream",
     "text": [
      "Model: \"sequential_1\"\n",
      "_________________________________________________________________\n",
      "Layer (type)                 Output Shape              Param #   \n",
      "=================================================================\n",
      "conv2d_1 (Conv2D)            (None, 148, 148, 32)      896       \n",
      "_________________________________________________________________\n",
      "max_pooling2d_1 (MaxPooling2 (None, 74, 74, 32)        0         \n",
      "_________________________________________________________________\n",
      "conv2d_2 (Conv2D)            (None, 72, 72, 64)        18496     \n",
      "_________________________________________________________________\n",
      "max_pooling2d_2 (MaxPooling2 (None, 36, 36, 64)        0         \n",
      "_________________________________________________________________\n",
      "conv2d_3 (Conv2D)            (None, 34, 34, 128)       73856     \n",
      "_________________________________________________________________\n",
      "max_pooling2d_3 (MaxPooling2 (None, 17, 17, 128)       0         \n",
      "_________________________________________________________________\n",
      "conv2d_4 (Conv2D)            (None, 15, 15, 128)       147584    \n",
      "_________________________________________________________________\n",
      "max_pooling2d_4 (MaxPooling2 (None, 7, 7, 128)         0         \n",
      "_________________________________________________________________\n",
      "flatten_1 (Flatten)          (None, 6272)              0         \n",
      "_________________________________________________________________\n",
      "dropout_1 (Dropout)          (None, 6272)              0         \n",
      "_________________________________________________________________\n",
      "dense_1 (Dense)              (None, 512)               3211776   \n",
      "_________________________________________________________________\n",
      "dense_2 (Dense)              (None, 7)                 3591      \n",
      "=================================================================\n",
      "Total params: 3,456,199\n",
      "Trainable params: 3,456,199\n",
      "Non-trainable params: 0\n",
      "_________________________________________________________________\n"
     ]
    }
   ],
   "source": [
    "model = models.Sequential()\n",
    "model.add(layers.Conv2D(32, (3, 3), activation='relu', input_shape=(150,150,3)))\n",
    "model.add(layers.MaxPooling2D((2, 2)))\n",
    "model.add(layers.Conv2D(64, (3, 3), activation='relu')) \n",
    "model.add(layers.MaxPooling2D((2, 2)))\n",
    "model.add(layers.Conv2D(128, (3, 3), activation='relu')) \n",
    "model.add(layers.MaxPooling2D((2, 2)))\n",
    "model.add(layers.Conv2D(128, (3, 3), activation='relu'))\n",
    "model.add(layers.MaxPooling2D((2, 2)))\n",
    "\n",
    "model.add(layers.Flatten())\n",
    "model.add(layers.Dropout(0.5))\n",
    "model.add(layers.Dense(512, activation='relu'))\n",
    "model.add(layers.Dense(7, activation='softmax')) \n",
    "model.summary()"
   ]
  },
  {
   "cell_type": "code",
   "execution_count": 15,
   "metadata": {},
   "outputs": [],
   "source": [
    "model.compile(loss='categorical_crossentropy',\n",
    "              optimizer='rmsprop',\n",
    "              metrics=['accuracy'])"
   ]
  },
  {
   "cell_type": "code",
   "execution_count": 41,
   "metadata": {},
   "outputs": [
    {
     "name": "stdout",
     "output_type": "stream",
     "text": [
      "Found 220 images belonging to 7 classes.\n",
      "Found 55 images belonging to 7 classes.\n"
     ]
    }
   ],
   "source": [
    "from keras.preprocessing import image\n",
    "from keras.preprocessing.image import ImageDataGenerator\n",
    "train_datagen = ImageDataGenerator(\n",
    "    rescale=1./255,\n",
    "    rotation_range=40,\n",
    "    width_shift_range=0.2,\n",
    "    height_shift_range=0.2,\n",
    "    shear_range=0.2,\n",
    "    zoom_range=0.2,\n",
    "    horizontal_flip=True,)\n",
    "test_datagen = ImageDataGenerator(rescale=1./255)\n",
    "\n",
    "train_generator = train_datagen.flow_from_directory(\n",
    "        train_dir,\n",
    "        target_size=(150, 150),\n",
    "        color_mode=\"rgb\",\n",
    "        batch_size=11,\n",
    "        class_mode='categorical')\n",
    "\n",
    "\n",
    "validation_generator = test_datagen.flow_from_directory(\n",
    "        test_dir,\n",
    "        target_size=(150, 150),\n",
    "        color_mode=\"rgb\",\n",
    "        batch_size=11,\n",
    "        class_mode='categorical')"
   ]
  },
  {
   "cell_type": "code",
   "execution_count": 42,
   "metadata": {},
   "outputs": [
    {
     "name": "stdout",
     "output_type": "stream",
     "text": [
      "Epoch 1/20\n",
      "20/20 [==============================] - 14s 716ms/step - loss: 2.5364 - accuracy: 0.1682 - val_loss: 1.7573 - val_accuracy: 0.2182\n",
      "Epoch 2/20\n",
      "20/20 [==============================] - 13s 662ms/step - loss: 1.6213 - accuracy: 0.2864 - val_loss: 1.6125 - val_accuracy: 0.3455\n",
      "Epoch 3/20\n",
      "20/20 [==============================] - 13s 639ms/step - loss: 1.4846 - accuracy: 0.3182 - val_loss: 1.4273 - val_accuracy: 0.4000\n",
      "Epoch 4/20\n",
      "20/20 [==============================] - 13s 649ms/step - loss: 1.4481 - accuracy: 0.3773 - val_loss: 0.9964 - val_accuracy: 0.4182\n",
      "Epoch 5/20\n",
      "20/20 [==============================] - 14s 721ms/step - loss: 1.3183 - accuracy: 0.4364 - val_loss: 1.0611 - val_accuracy: 0.5818\n",
      "Epoch 6/20\n",
      "20/20 [==============================] - 16s 819ms/step - loss: 1.1436 - accuracy: 0.4955 - val_loss: 1.0354 - val_accuracy: 0.4727\n",
      "Epoch 7/20\n",
      "20/20 [==============================] - 18s 888ms/step - loss: 1.0821 - accuracy: 0.5045 - val_loss: 1.2305 - val_accuracy: 0.5273\n",
      "Epoch 8/20\n",
      "20/20 [==============================] - 15s 771ms/step - loss: 0.9885 - accuracy: 0.5409 - val_loss: 1.2803 - val_accuracy: 0.4727\n",
      "Epoch 9/20\n",
      "20/20 [==============================] - 17s 861ms/step - loss: 0.9536 - accuracy: 0.5636 - val_loss: 1.2287 - val_accuracy: 0.4545\n",
      "Epoch 10/20\n",
      "20/20 [==============================] - 18s 911ms/step - loss: 0.9843 - accuracy: 0.5455 - val_loss: 0.7996 - val_accuracy: 0.5636\n",
      "Epoch 11/20\n",
      "20/20 [==============================] - 17s 832ms/step - loss: 0.9439 - accuracy: 0.5727 - val_loss: 0.9288 - val_accuracy: 0.5818\n",
      "Epoch 12/20\n",
      "20/20 [==============================] - 14s 709ms/step - loss: 0.8916 - accuracy: 0.5727 - val_loss: 1.0528 - val_accuracy: 0.5273\n",
      "Epoch 13/20\n",
      "20/20 [==============================] - 13s 666ms/step - loss: 0.8940 - accuracy: 0.5909 - val_loss: 0.6844 - val_accuracy: 0.6000\n",
      "Epoch 14/20\n",
      "20/20 [==============================] - 16s 788ms/step - loss: 0.9223 - accuracy: 0.6409 - val_loss: 1.5347 - val_accuracy: 0.4545\n",
      "Epoch 15/20\n",
      "20/20 [==============================] - 14s 696ms/step - loss: 0.8317 - accuracy: 0.6227 - val_loss: 0.7593 - val_accuracy: 0.6182\n",
      "Epoch 16/20\n",
      "20/20 [==============================] - 15s 769ms/step - loss: 0.8073 - accuracy: 0.6136 - val_loss: 0.6946 - val_accuracy: 0.6545\n",
      "Epoch 17/20\n",
      "20/20 [==============================] - 15s 735ms/step - loss: 0.8235 - accuracy: 0.6364 - val_loss: 0.4670 - val_accuracy: 0.6364\n",
      "Epoch 18/20\n",
      "20/20 [==============================] - 15s 759ms/step - loss: 0.7987 - accuracy: 0.6409 - val_loss: 0.6961 - val_accuracy: 0.6182\n",
      "Epoch 19/20\n",
      "20/20 [==============================] - 14s 684ms/step - loss: 0.7548 - accuracy: 0.6409 - val_loss: 0.6055 - val_accuracy: 0.6545\n",
      "Epoch 20/20\n",
      "20/20 [==============================] - 14s 682ms/step - loss: 0.8135 - accuracy: 0.6045 - val_loss: 0.5590 - val_accuracy: 0.6727\n"
     ]
    }
   ],
   "source": [
    "import math\n",
    "training_samples =220\n",
    "batch_size_training_generator=11\n",
    "validation_samples =55\n",
    "batch_size_validation_generator=11\n",
    "\n",
    "history = model.fit_generator(\n",
    "      train_generator,\n",
    "      steps_per_epoch=math.ceil(training_samples/batch_size_training_generator),\n",
    "      epochs=20,\n",
    "      validation_data=validation_generator,\n",
    "      validation_steps=math.ceil(validation_samples/batch_size_validation_generator))"
   ]
  },
  {
   "cell_type": "code",
   "execution_count": 43,
   "metadata": {},
   "outputs": [],
   "source": [
    "model.save('model_weedcrops.h5')"
   ]
  },
  {
   "cell_type": "code",
   "execution_count": 44,
   "metadata": {},
   "outputs": [],
   "source": [
    "test_samples =55\n",
    "batch_size_test=11\n",
    "\n",
    "score= model.evaluate_generator(validation_generator, steps = math.ceil(test_samples/batch_size_test))"
   ]
  },
  {
   "cell_type": "code",
   "execution_count": 45,
   "metadata": {},
   "outputs": [
    {
     "name": "stdout",
     "output_type": "stream",
     "text": [
      "\n",
      "Test accuracy: 67.3%\n"
     ]
    }
   ],
   "source": [
    "print(\"\\nTest accuracy: %.1f%%\" % (100.0 * score[1]))"
   ]
  },
  {
   "cell_type": "code",
   "execution_count": 54,
   "metadata": {},
   "outputs": [
    {
     "name": "stdout",
     "output_type": "stream",
     "text": [
      "{'broadleaf': 0, 'grass': 1, 'maize': 2, 'nutsedge': 3, 'paragrass': 4, 'soil': 5, 'soybean': 6}\n",
      "[[76.5 23.3  0.   0.   0.   0.   0.2]]\n"
     ]
    }
   ],
   "source": [
    "from PIL import Image\n",
    "import numpy as np\n",
    "from skimage import transform\n",
    "\n",
    "def load(filename):\n",
    "   np_image = Image.open(filename) #Open the image\n",
    "   np_image = np.array(np_image).astype('float32')/255 \n",
    "   np_image = transform.resize(np_image, (150, 150, 3))\n",
    "   np_image = np.expand_dims(np_image, axis=0) \n",
    "   return np_image\n",
    "\n",
    "\n",
    "label_map = (validation_generator.class_indices)\n",
    "print (label_map)\n",
    "\n",
    "image_to_predict = load('./weedandcrops/test/broadleaf/44.tif')\n",
    "result = model.predict(image_to_predict)\n",
    "result= np.around(result,decimals=3)\n",
    "result=result*100\n",
    "print (result)"
   ]
  },
  {
   "cell_type": "code",
   "execution_count": 55,
   "metadata": {},
   "outputs": [
    {
     "data": {
      "image/png": "[encoded data removed]",
      "text/plain": [
       "<Figure size 432x288 with 1 Axes>"
      ]
     },
     "metadata": {
      "needs_background": "light"
     },
     "output_type": "display_data"
    }
   ],
   "source": [
    "image_to_predict= np.squeeze(image_to_predict,axis=0)\n",
    "image_to_predict.shape\n",
    "\n",
    "from matplotlib import pyplot as plt\n",
    "plt.imshow(image_to_predict, interpolation='nearest')\n",
    "plt.show()"
   ]
  },
  {
   "cell_type": "code",
   "execution_count": null,
   "metadata": {},
   "outputs": [],
   "source": []
  }
 ],
 "metadata": {
  "kernelspec": {
   "display_name": "Python 3",
   "language": "python",
   "name": "python3"
  },
  "language_info": {
   "codemirror_mode": {
    "name": "ipython",
    "version": 3
   },
   "file_extension": ".py",
   "mimetype": "text/x-python",
   "name": "python",
   "nbconvert_exporter": "python",
   "pygments_lexer": "ipython3",
   "version": "3.7.4"
  }
 },
 "nbformat": 4,
 "nbformat_minor": 4
}
