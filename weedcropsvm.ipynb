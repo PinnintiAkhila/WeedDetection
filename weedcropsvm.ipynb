{
 "cells": [
  {
   "cell_type": "code",
   "execution_count": 1,
   "metadata": {
    "colab": {
     "base_uri": "https://localhost:8080/",
     "height": 34
    },
    "colab_type": "code",
    "id": "GcRQcpTLCa-f",
    "outputId": "91a3a9ad-e179-42c8-8335-9207d1617670"
   },
   "outputs": [
    {
     "name": "stderr",
     "output_type": "stream",
     "text": [
      "Using TensorFlow backend.\n"
     ]
    }
   ],
   "source": [
    "import sklearn\n",
    "import numpy as np \n",
    "import pandas as pd \n",
    "import matplotlib.pyplot as plt\n",
    "%matplotlib inline\n",
    "import tensorflow as tf\n",
    "import keras\n",
    "import glob\n",
    "import cv2\n",
    "import os"
   ]
  },
  {
   "cell_type": "code",
   "execution_count": 2,
   "metadata": {
    "colab": {
     "base_uri": "https://localhost:8080/",
     "height": 34
    },
    "colab_type": "code",
    "id": "qLWSbtj4Ce4B",
    "outputId": "15c96666-2c4f-48a6-e681-5d0487d4b2c3"
   },
   "outputs": [
    {
     "name": "stdout",
     "output_type": "stream",
     "text": [
      "Drive already mounted at /content/drive/; to attempt to forcibly remount, call drive.mount(\"/content/drive/\", force_remount=True).\n"
     ]
    }
   ],
   "source": [
    "from google.colab import drive\n",
    "drive.mount('/content/drive/')"
   ]
  },
  {
   "cell_type": "code",
   "execution_count": 3,
   "metadata": {
    "colab": {
     "base_uri": "https://localhost:8080/",
     "height": 1000
    },
    "colab_type": "code",
    "id": "l48k1BepHIh5",
    "outputId": "b3d9b6f0-cd7c-4b11-a49e-75a19e4d6613"
   },
   "outputs": [
    {
     "name": "stdout",
     "output_type": "stream",
     "text": [
      "Archive:  /content/drive/My Drive/weedandcrops1.zip\n",
      "   creating: weedandcrops1/\n",
      "   creating: weedandcrops1/train/\n",
      "   creating: weedandcrops1/train/grass/\n",
      "  inflating: weedandcrops1/train/grass/1.tif  \n",
      "  inflating: weedandcrops1/train/grass/2.tif  \n",
      "  inflating: weedandcrops1/train/grass/3.tif  \n",
      "  inflating: weedandcrops1/train/grass/4.tif  \n",
      "  inflating: weedandcrops1/train/grass/5.tif  \n",
      "  inflating: weedandcrops1/train/grass/6.tif  \n",
      "  inflating: weedandcrops1/train/grass/7.tif  \n",
      "  inflating: weedandcrops1/train/grass/8.tif  \n",
      "  inflating: weedandcrops1/train/grass/9.tif  \n",
      "  inflating: weedandcrops1/train/grass/10.tif  \n",
      "  inflating: weedandcrops1/train/grass/11.tif  \n",
      "  inflating: weedandcrops1/train/grass/12.tif  \n",
      "  inflating: weedandcrops1/train/grass/13.tif  \n",
      "  inflating: weedandcrops1/train/grass/14.tif  \n",
      "  inflating: weedandcrops1/train/grass/15.tif  \n",
      "  inflating: weedandcrops1/train/grass/16.tif  \n",
      "  inflating: weedandcrops1/train/grass/17.tif  \n",
      "  inflating: weedandcrops1/train/grass/18.tif  \n",
      "  inflating: weedandcrops1/train/grass/19.tif  \n",
      "  inflating: weedandcrops1/train/grass/20.tif  \n",
      "  inflating: weedandcrops1/train/grass/21.tif  \n",
      "  inflating: weedandcrops1/train/grass/22.tif  \n",
      "  inflating: weedandcrops1/train/grass/23.tif  \n",
      "  inflating: weedandcrops1/train/grass/24.tif  \n",
      "  inflating: weedandcrops1/train/grass/25.tif  \n",
      "  inflating: weedandcrops1/train/grass/26.tif  \n",
      "  inflating: weedandcrops1/train/grass/27.tif  \n",
      "  inflating: weedandcrops1/train/grass/28.tif  \n",
      "  inflating: weedandcrops1/train/grass/29.tif  \n",
      "  inflating: weedandcrops1/train/grass/30.tif  \n",
      "  inflating: weedandcrops1/train/grass/31.tif  \n",
      "  inflating: weedandcrops1/train/grass/32.tif  \n",
      "  inflating: weedandcrops1/train/grass/33.tif  \n",
      "  inflating: weedandcrops1/train/grass/34.tif  \n",
      "  inflating: weedandcrops1/train/grass/35.tif  \n",
      "  inflating: weedandcrops1/train/grass/36.tif  \n",
      "  inflating: weedandcrops1/train/grass/37.tif  \n",
      "  inflating: weedandcrops1/train/grass/38.tif  \n",
      "  inflating: weedandcrops1/train/grass/39.tif  \n",
      "  inflating: weedandcrops1/train/grass/40.tif  \n",
      "   creating: weedandcrops1/train/soil/\n",
      "  inflating: weedandcrops1/train/soil/1.tif  \n",
      "  inflating: weedandcrops1/train/soil/2.tif  \n",
      "  inflating: weedandcrops1/train/soil/3.tif  \n",
      "  inflating: weedandcrops1/train/soil/4.tif  \n",
      "  inflating: weedandcrops1/train/soil/5.tif  \n",
      "  inflating: weedandcrops1/train/soil/6.tif  \n",
      "  inflating: weedandcrops1/train/soil/7.tif  \n",
      "  inflating: weedandcrops1/train/soil/8.tif  \n",
      "  inflating: weedandcrops1/train/soil/9.tif  \n",
      "  inflating: weedandcrops1/train/soil/10.tif  \n",
      "  inflating: weedandcrops1/train/soil/11.tif  \n",
      "  inflating: weedandcrops1/train/soil/12.tif  \n",
      "  inflating: weedandcrops1/train/soil/13.tif  \n",
      "  inflating: weedandcrops1/train/soil/14.tif  \n",
      "  inflating: weedandcrops1/train/soil/15.tif  \n",
      "  inflating: weedandcrops1/train/soil/16.tif  \n",
      "  inflating: weedandcrops1/train/soil/17.tif  \n",
      "  inflating: weedandcrops1/train/soil/18.tif  \n",
      "  inflating: weedandcrops1/train/soil/19.tif  \n",
      "  inflating: weedandcrops1/train/soil/20.tif  \n",
      "  inflating: weedandcrops1/train/soil/21.tif  \n",
      "  inflating: weedandcrops1/train/soil/22.tif  \n",
      "  inflating: weedandcrops1/train/soil/23.tif  \n",
      "  inflating: weedandcrops1/train/soil/24.tif  \n",
      "  inflating: weedandcrops1/train/soil/25.tif  \n",
      "  inflating: weedandcrops1/train/soil/26.tif  \n",
      "  inflating: weedandcrops1/train/soil/27.tif  \n",
      "  inflating: weedandcrops1/train/soil/28.tif  \n",
      "  inflating: weedandcrops1/train/soil/29.tif  \n",
      "  inflating: weedandcrops1/train/soil/30.tif  \n",
      "  inflating: weedandcrops1/train/soil/31.tif  \n",
      "  inflating: weedandcrops1/train/soil/32.tif  \n",
      "  inflating: weedandcrops1/train/soil/33.tif  \n",
      "  inflating: weedandcrops1/train/soil/34.tif  \n",
      "  inflating: weedandcrops1/train/soil/35.tif  \n",
      "  inflating: weedandcrops1/train/soil/36.tif  \n",
      "  inflating: weedandcrops1/train/soil/37.tif  \n",
      "  inflating: weedandcrops1/train/soil/38.tif  \n",
      "  inflating: weedandcrops1/train/soil/39.tif  \n",
      "  inflating: weedandcrops1/train/soil/40.tif  \n",
      "   creating: weedandcrops1/train/soybean/\n",
      "  inflating: weedandcrops1/train/soybean/1.tif  \n",
      "  inflating: weedandcrops1/train/soybean/2.tif  \n",
      "  inflating: weedandcrops1/train/soybean/3.tif  \n",
      "  inflating: weedandcrops1/train/soybean/4.tif  \n",
      "  inflating: weedandcrops1/train/soybean/5.tif  \n",
      "  inflating: weedandcrops1/train/soybean/6.tif  \n",
      "  inflating: weedandcrops1/train/soybean/7.tif  \n",
      "  inflating: weedandcrops1/train/soybean/8.tif  \n",
      "  inflating: weedandcrops1/train/soybean/9.tif  \n",
      "  inflating: weedandcrops1/train/soybean/10.tif  \n",
      "  inflating: weedandcrops1/train/soybean/11.tif  \n",
      "  inflating: weedandcrops1/train/soybean/12.tif  \n",
      "  inflating: weedandcrops1/train/soybean/13.tif  \n",
      "  inflating: weedandcrops1/train/soybean/14.tif  \n",
      "  inflating: weedandcrops1/train/soybean/15.tif  \n",
      "  inflating: weedandcrops1/train/soybean/16.tif  \n",
      "  inflating: weedandcrops1/train/soybean/17.tif  \n",
      "  inflating: weedandcrops1/train/soybean/18.tif  \n",
      "  inflating: weedandcrops1/train/soybean/19.tif  \n",
      "  inflating: weedandcrops1/train/soybean/20.tif  \n",
      "  inflating: weedandcrops1/train/soybean/21.tif  \n",
      "  inflating: weedandcrops1/train/soybean/22.tif  \n",
      "  inflating: weedandcrops1/train/soybean/23.tif  \n",
      "  inflating: weedandcrops1/train/soybean/24.tif  \n",
      "  inflating: weedandcrops1/train/soybean/25.tif  \n",
      "  inflating: weedandcrops1/train/soybean/26.tif  \n",
      "  inflating: weedandcrops1/train/soybean/27.tif  \n",
      "  inflating: weedandcrops1/train/soybean/28.tif  \n",
      "  inflating: weedandcrops1/train/soybean/29.tif  \n",
      "  inflating: weedandcrops1/train/soybean/30.tif  \n",
      "  inflating: weedandcrops1/train/soybean/31.tif  \n",
      "  inflating: weedandcrops1/train/soybean/32.tif  \n",
      "  inflating: weedandcrops1/train/soybean/33.tif  \n",
      "  inflating: weedandcrops1/train/soybean/34.tif  \n",
      "  inflating: weedandcrops1/train/soybean/35.tif  \n",
      "  inflating: weedandcrops1/train/soybean/36.tif  \n",
      "  inflating: weedandcrops1/train/soybean/37.tif  \n",
      "  inflating: weedandcrops1/train/soybean/38.tif  \n",
      "  inflating: weedandcrops1/train/soybean/39.tif  \n",
      "  inflating: weedandcrops1/train/soybean/40.tif  \n",
      "   creating: weedandcrops1/train/broadleaf/\n",
      "  inflating: weedandcrops1/train/broadleaf/1.tif  \n",
      "  inflating: weedandcrops1/train/broadleaf/2.tif  \n",
      "  inflating: weedandcrops1/train/broadleaf/3.tif  \n",
      "  inflating: weedandcrops1/train/broadleaf/4.tif  \n",
      "  inflating: weedandcrops1/train/broadleaf/5.tif  \n",
      "  inflating: weedandcrops1/train/broadleaf/6.tif  \n",
      "  inflating: weedandcrops1/train/broadleaf/7.tif  \n",
      "  inflating: weedandcrops1/train/broadleaf/8.tif  \n",
      "  inflating: weedandcrops1/train/broadleaf/9.tif  \n",
      "  inflating: weedandcrops1/train/broadleaf/10.tif  \n",
      "  inflating: weedandcrops1/train/broadleaf/11.tif  \n",
      "  inflating: weedandcrops1/train/broadleaf/12.tif  \n",
      "  inflating: weedandcrops1/train/broadleaf/13.tif  \n",
      "  inflating: weedandcrops1/train/broadleaf/14.tif  \n",
      "  inflating: weedandcrops1/train/broadleaf/15.tif  \n",
      "  inflating: weedandcrops1/train/broadleaf/16.tif  \n",
      "  inflating: weedandcrops1/train/broadleaf/17.tif  \n",
      "  inflating: weedandcrops1/train/broadleaf/18.tif  \n",
      "  inflating: weedandcrops1/train/broadleaf/19.tif  \n",
      "  inflating: weedandcrops1/train/broadleaf/20.tif  \n",
      "  inflating: weedandcrops1/train/broadleaf/21.tif  \n",
      "  inflating: weedandcrops1/train/broadleaf/22.tif  \n",
      "  inflating: weedandcrops1/train/broadleaf/23.tif  \n",
      "  inflating: weedandcrops1/train/broadleaf/24.tif  \n",
      "  inflating: weedandcrops1/train/broadleaf/25.tif  \n",
      "  inflating: weedandcrops1/train/broadleaf/26.tif  \n",
      "  inflating: weedandcrops1/train/broadleaf/27.tif  \n",
      "  inflating: weedandcrops1/train/broadleaf/28.tif  \n",
      "  inflating: weedandcrops1/train/broadleaf/29.tif  \n",
      "  inflating: weedandcrops1/train/broadleaf/30.tif  \n",
      "  inflating: weedandcrops1/train/broadleaf/31.tif  \n",
      "  inflating: weedandcrops1/train/broadleaf/32.tif  \n",
      "  inflating: weedandcrops1/train/broadleaf/33.tif  \n",
      "  inflating: weedandcrops1/train/broadleaf/34.tif  \n",
      "  inflating: weedandcrops1/train/broadleaf/35.tif  \n",
      "  inflating: weedandcrops1/train/broadleaf/36.tif  \n",
      "  inflating: weedandcrops1/train/broadleaf/37.tif  \n",
      "  inflating: weedandcrops1/train/broadleaf/38.tif  \n",
      "  inflating: weedandcrops1/train/broadleaf/39.tif  \n",
      "  inflating: weedandcrops1/train/broadleaf/40.tif  \n",
      "   creating: weedandcrops1/train/maize/\n",
      "  inflating: weedandcrops1/train/maize/1.tif  \n",
      "  inflating: weedandcrops1/train/maize/2.tif  \n",
      "  inflating: weedandcrops1/train/maize/3.tif  \n",
      "  inflating: weedandcrops1/train/maize/4.tif  \n",
      "  inflating: weedandcrops1/train/maize/5.tif  \n",
      "  inflating: weedandcrops1/train/maize/6.tif  \n",
      "  inflating: weedandcrops1/train/maize/7.tif  \n",
      "  inflating: weedandcrops1/train/maize/8.tif  \n",
      "  inflating: weedandcrops1/train/maize/9.tif  \n",
      "  inflating: weedandcrops1/train/maize/10.tif  \n",
      "  inflating: weedandcrops1/train/maize/11.tif  \n",
      "  inflating: weedandcrops1/train/maize/12.tif  \n",
      "  inflating: weedandcrops1/train/maize/13.tif  \n",
      "  inflating: weedandcrops1/train/maize/14.tif  \n",
      "  inflating: weedandcrops1/train/maize/15.tif  \n",
      "  inflating: weedandcrops1/train/maize/16.tif  \n",
      "  inflating: weedandcrops1/train/maize/17.tif  \n",
      "  inflating: weedandcrops1/train/maize/18.tif  \n",
      "  inflating: weedandcrops1/train/maize/19.tif  \n",
      "  inflating: weedandcrops1/train/maize/20.tif  \n",
      "   creating: weedandcrops1/train/paragrass/\n",
      "  inflating: weedandcrops1/train/paragrass/1.tif  \n",
      "  inflating: weedandcrops1/train/paragrass/2.tif  \n",
      "  inflating: weedandcrops1/train/paragrass/3.tif  \n",
      "  inflating: weedandcrops1/train/paragrass/4.tif  \n",
      "  inflating: weedandcrops1/train/paragrass/5.tif  \n",
      "  inflating: weedandcrops1/train/paragrass/6.tif  \n",
      "  inflating: weedandcrops1/train/paragrass/7.tif  \n",
      "  inflating: weedandcrops1/train/paragrass/8.tif  \n",
      "  inflating: weedandcrops1/train/paragrass/9.tif  \n",
      "  inflating: weedandcrops1/train/paragrass/10.tif  \n",
      "  inflating: weedandcrops1/train/paragrass/11.tif  \n",
      "  inflating: weedandcrops1/train/paragrass/12.tif  \n",
      "  inflating: weedandcrops1/train/paragrass/13.tif  \n",
      "  inflating: weedandcrops1/train/paragrass/14.tif  \n",
      "  inflating: weedandcrops1/train/paragrass/15.tif  \n",
      "  inflating: weedandcrops1/train/paragrass/16.tif  \n",
      "  inflating: weedandcrops1/train/paragrass/17.tif  \n",
      "  inflating: weedandcrops1/train/paragrass/18.tif  \n",
      "  inflating: weedandcrops1/train/paragrass/19.tif  \n",
      "  inflating: weedandcrops1/train/paragrass/20.tif  \n",
      "   creating: weedandcrops1/train/nutsedge/\n",
      "  inflating: weedandcrops1/train/nutsedge/1.tif  \n",
      "  inflating: weedandcrops1/train/nutsedge/2.tif  \n",
      "  inflating: weedandcrops1/train/nutsedge/3.tif  \n",
      "  inflating: weedandcrops1/train/nutsedge/4.tif  \n",
      "  inflating: weedandcrops1/train/nutsedge/5.tif  \n",
      "  inflating: weedandcrops1/train/nutsedge/6.tif  \n",
      "  inflating: weedandcrops1/train/nutsedge/7.tif  \n",
      "  inflating: weedandcrops1/train/nutsedge/8.tif  \n",
      "  inflating: weedandcrops1/train/nutsedge/9.tif  \n",
      "  inflating: weedandcrops1/train/nutsedge/10.tif  \n",
      "  inflating: weedandcrops1/train/nutsedge/11.tif  \n",
      "  inflating: weedandcrops1/train/nutsedge/12.tif  \n",
      "  inflating: weedandcrops1/train/nutsedge/13.tif  \n",
      "  inflating: weedandcrops1/train/nutsedge/14.tif  \n",
      "  inflating: weedandcrops1/train/nutsedge/15.tif  \n",
      "  inflating: weedandcrops1/train/nutsedge/16.tif  \n",
      "  inflating: weedandcrops1/train/nutsedge/17.tif  \n",
      "  inflating: weedandcrops1/train/nutsedge/18.tif  \n",
      "  inflating: weedandcrops1/train/nutsedge/19.tif  \n",
      "  inflating: weedandcrops1/train/nutsedge/20.tif  \n",
      "   creating: weedandcrops1/test/\n",
      "   creating: weedandcrops1/test/grass/\n",
      "  inflating: weedandcrops1/test/grass/41.tif  \n",
      "  inflating: weedandcrops1/test/grass/42.tif  \n",
      "  inflating: weedandcrops1/test/grass/43.tif  \n",
      "  inflating: weedandcrops1/test/grass/44.tif  \n",
      "  inflating: weedandcrops1/test/grass/45.tif  \n",
      "  inflating: weedandcrops1/test/grass/46.tif  \n",
      "  inflating: weedandcrops1/test/grass/47.tif  \n",
      "  inflating: weedandcrops1/test/grass/48.tif  \n",
      "  inflating: weedandcrops1/test/grass/49.tif  \n",
      "  inflating: weedandcrops1/test/grass/50.tif  \n",
      "   creating: weedandcrops1/test/soil/\n",
      "  inflating: weedandcrops1/test/soil/41.tif  \n",
      "  inflating: weedandcrops1/test/soil/42.tif  \n",
      "  inflating: weedandcrops1/test/soil/43.tif  \n",
      "  inflating: weedandcrops1/test/soil/44.tif  \n",
      "  inflating: weedandcrops1/test/soil/45.tif  \n",
      "  inflating: weedandcrops1/test/soil/46.tif  \n",
      "  inflating: weedandcrops1/test/soil/47.tif  \n",
      "  inflating: weedandcrops1/test/soil/48.tif  \n",
      "  inflating: weedandcrops1/test/soil/49.tif  \n",
      "  inflating: weedandcrops1/test/soil/50.tif  \n",
      "   creating: weedandcrops1/test/soybean/\n",
      "  inflating: weedandcrops1/test/soybean/41.tif  \n",
      "  inflating: weedandcrops1/test/soybean/42.tif  \n",
      "  inflating: weedandcrops1/test/soybean/43.tif  \n",
      "  inflating: weedandcrops1/test/soybean/44.tif  \n",
      "  inflating: weedandcrops1/test/soybean/45.tif  \n",
      "  inflating: weedandcrops1/test/soybean/46.tif  \n",
      "  inflating: weedandcrops1/test/soybean/47.tif  \n",
      "  inflating: weedandcrops1/test/soybean/48.tif  \n",
      "  inflating: weedandcrops1/test/soybean/49.tif  \n",
      "  inflating: weedandcrops1/test/soybean/50.tif  \n",
      "   creating: weedandcrops1/test/broadleaf/\n",
      "  inflating: weedandcrops1/test/broadleaf/41.tif  \n",
      "  inflating: weedandcrops1/test/broadleaf/42.tif  \n",
      "  inflating: weedandcrops1/test/broadleaf/43.tif  \n",
      "  inflating: weedandcrops1/test/broadleaf/44.tif  \n",
      "  inflating: weedandcrops1/test/broadleaf/45.tif  \n",
      "  inflating: weedandcrops1/test/broadleaf/46.tif  \n",
      "  inflating: weedandcrops1/test/broadleaf/47.tif  \n",
      "  inflating: weedandcrops1/test/broadleaf/48.tif  \n",
      "  inflating: weedandcrops1/test/broadleaf/49.tif  \n",
      "  inflating: weedandcrops1/test/broadleaf/50.tif  \n",
      "   creating: weedandcrops1/test/maize/\n",
      "  inflating: weedandcrops1/test/maize/21.tif  \n",
      "  inflating: weedandcrops1/test/maize/22.tif  \n",
      "  inflating: weedandcrops1/test/maize/23.tif  \n",
      "  inflating: weedandcrops1/test/maize/24.tif  \n",
      "  inflating: weedandcrops1/test/maize/25.tif  \n",
      "   creating: weedandcrops1/test/paragrass/\n",
      "  inflating: weedandcrops1/test/paragrass/21.tif  \n",
      "  inflating: weedandcrops1/test/paragrass/22.tif  \n",
      "  inflating: weedandcrops1/test/paragrass/23.tif  \n",
      "  inflating: weedandcrops1/test/paragrass/24.tif  \n",
      "  inflating: weedandcrops1/test/paragrass/25.tif  \n",
      "   creating: weedandcrops1/test/nutsedge/\n",
      "  inflating: weedandcrops1/test/nutsedge/21.tif  \n",
      "  inflating: weedandcrops1/test/nutsedge/22.tif  \n",
      "  inflating: weedandcrops1/test/nutsedge/23.tif  \n",
      "  inflating: weedandcrops1/test/nutsedge/24.tif  \n",
      "  inflating: weedandcrops1/test/nutsedge/25.tif  \n"
     ]
    }
   ],
   "source": [
    "!unzip \"/content/drive/My Drive/weedandcrops1.zip\""
   ]
  },
  {
   "cell_type": "code",
   "execution_count": 4,
   "metadata": {
    "colab": {
     "base_uri": "https://localhost:8080/",
     "height": 34
    },
    "colab_type": "code",
    "id": "oOfMYSpwOEy6",
    "outputId": "e37af244-c254-4e2a-cd11-2618444b5be4"
   },
   "outputs": [
    {
     "name": "stdout",
     "output_type": "stream",
     "text": [
      "['grass', 'nutsedge', 'maize', 'broadleaf', 'paragrass', 'soybean', 'soil']\n"
     ]
    }
   ],
   "source": [
    "print(os.listdir(\"/content/weedandcrops1/train/\"))"
   ]
  },
  {
   "cell_type": "code",
   "execution_count": null,
   "metadata": {
    "colab": {},
    "colab_type": "code",
    "id": "sJp1S-e9Idip"
   },
   "outputs": [],
   "source": [
    "weed_images = []\n",
    "labels = [] \n",
    "for weed_dir_path in glob.glob(\"/content/weedandcrops1/train/*\"):\n",
    "    weed_label = weed_dir_path.split(\"/\")[-1]\n",
    "    for image_path in glob.glob(os.path.join(weed_dir_path, \"*.tif\")):\n",
    "        image = cv2.imread(image_path, cv2.IMREAD_COLOR)\n",
    "        image = cv2.resize(image, (110, 110))\n",
    "        image = cv2.cvtColor(image, cv2.COLOR_RGB2GRAY) \n",
    "        weed_images.append(image)\n",
    "        labels.append(weed_label)\n",
    "weed_images = np.array(weed_images)\n",
    "weed_images = weed_images.reshape(len(weed_images),-1)\n",
    "labels = np.array(labels)\n"
   ]
  },
  {
   "cell_type": "code",
   "execution_count": 6,
   "metadata": {
    "colab": {
     "base_uri": "https://localhost:8080/",
     "height": 34
    },
    "colab_type": "code",
    "id": "B1_N8m8uNQm0",
    "outputId": "e03f5c38-e5eb-4f0d-a703-eac92f7ee8d7"
   },
   "outputs": [
    {
     "name": "stdout",
     "output_type": "stream",
     "text": [
      "(220, 12100)\n"
     ]
    }
   ],
   "source": [
    "print(np.shape(weed_images))"
   ]
  },
  {
   "cell_type": "code",
   "execution_count": 7,
   "metadata": {
    "colab": {
     "base_uri": "https://localhost:8080/",
     "height": 156
    },
    "colab_type": "code",
    "id": "DcoKNlNyUyB0",
    "outputId": "3b22574c-ce72-45b0-8a4a-0a42d2fa533b"
   },
   "outputs": [
    {
     "data": {
      "text/plain": [
       "RandomForestClassifier(bootstrap=True, ccp_alpha=0.0, class_weight=None,\n",
       "                       criterion='gini', max_depth=9, max_features='auto',\n",
       "                       max_leaf_nodes=None, max_samples=None,\n",
       "                       min_impurity_decrease=0.0, min_impurity_split=None,\n",
       "                       min_samples_leaf=1, min_samples_split=2,\n",
       "                       min_weight_fraction_leaf=0.0, n_estimators=100,\n",
       "                       n_jobs=None, oob_score=False, random_state=0, verbose=0,\n",
       "                       warm_start=False)"
      ]
     },
     "execution_count": 7,
     "metadata": {
      "tags": []
     },
     "output_type": "execute_result"
    }
   ],
   "source": [
    "from sklearn import svm\n",
    "from sklearn.ensemble import RandomForestClassifier\n",
    "clf=RandomForestClassifier(max_depth=9, random_state=0)\n",
    "clf.fit(weed_images, labels)"
   ]
  },
  {
   "cell_type": "code",
   "execution_count": 8,
   "metadata": {
    "colab": {
     "base_uri": "https://localhost:8080/",
     "height": 268
    },
    "colab_type": "code",
    "id": "K1e-F0JiU4Lz",
    "outputId": "6b481423-7ba2-4b53-ae2b-ff9b5b4e9856"
   },
   "outputs": [
    {
     "data": {
      "image/png": "[encoded data removed]",
      "text/plain": [
       "<Figure size 432x288 with 1 Axes>"
      ]
     },
     "metadata": {
      "needs_background": "light",
      "tags": []
     },
     "output_type": "display_data"
    }
   ],
   "source": [
    "import matplotlib.pyplot as plt\n",
    "validation_weed_images = []\n",
    "validation_labels = [] \n",
    "for weed_dir_path in glob.glob(\"/content/weedandcrops1/test/*\"):\n",
    "    weed_label = weed_dir_path.split(\"/\")[-1]\n",
    "    for image_path in glob.glob(os.path.join(weed_dir_path, \"*.tif\")):\n",
    "        image = cv2.imread(image_path, cv2.IMREAD_COLOR)\n",
    "        image = cv2.resize(image, (110, 110))\n",
    "        image = cv2.cvtColor(image, cv2.COLOR_RGB2GRAY)\n",
    "        validation_weed_images.append(image)\n",
    "        validation_labels.append(weed_label)\n",
    "validation_weed_images = np.array(validation_weed_images)\n",
    "plt.imshow(cv2.cvtColor(validation_weed_images[1], cv2.COLOR_GRAY2RGB))\n",
    "plt.show()\n",
    "validation_weed_images = validation_weed_images.reshape(len(validation_weed_images),-1)\n",
    "validation_labels = np.array(validation_labels)\n",
    "\n"
   ]
  },
  {
   "cell_type": "code",
   "execution_count": 9,
   "metadata": {
    "colab": {
     "base_uri": "https://localhost:8080/",
     "height": 34
    },
    "colab_type": "code",
    "id": "PiD28bWOVg4W",
    "outputId": "2819464a-eaec-4112-d374-69337e326e6a"
   },
   "outputs": [
    {
     "name": "stdout",
     "output_type": "stream",
     "text": [
      "(55, 12100)\n"
     ]
    }
   ],
   "source": [
    "print(np.shape(validation_weed_images))"
   ]
  },
  {
   "cell_type": "code",
   "execution_count": 10,
   "metadata": {
    "colab": {
     "base_uri": "https://localhost:8080/",
     "height": 121
    },
    "colab_type": "code",
    "id": "8J7pu1d-V3JW",
    "outputId": "9fda38b8-c928-4483-d862-f162f11b47ea"
   },
   "outputs": [
    {
     "name": "stdout",
     "output_type": "stream",
     "text": [
      "[0 0 0 ... 0 0 0]\n",
      "grass\n",
      "[0 0 0 ... 0 0 0]\n",
      "grass\n",
      "['grass'] correct label grass\n",
      "['grass'] correct label grass\n"
     ]
    }
   ],
   "source": [
    "print(validation_weed_images[7])\n",
    "print(validation_labels[7])\n",
    "print(weed_images[7])\n",
    "print(labels[7])\n",
    "for i in range(1,55,30):\n",
    "    check=clf.predict([weed_images[i]])\n",
    "    print(check,\"correct label\", labels[i])"
   ]
  },
  {
   "cell_type": "code",
   "execution_count": 11,
   "metadata": {
    "colab": {
     "base_uri": "https://localhost:8080/",
     "height": 34
    },
    "colab_type": "code",
    "id": "H_yZvi2vWsTW",
    "outputId": "8e93501f-02b8-46da-addd-09baa87a61d7"
   },
   "outputs": [
    {
     "name": "stdout",
     "output_type": "stream",
     "text": [
      "(55, 12100)\n"
     ]
    }
   ],
   "source": [
    "print(np.shape(validation_weed_images))"
   ]
  },
  {
   "cell_type": "code",
   "execution_count": 19,
   "metadata": {
    "colab": {
     "base_uri": "https://localhost:8080/",
     "height": 52
    },
    "colab_type": "code",
    "id": "1maBA0kMW8-b",
    "outputId": "dca6e8a5-01a3-4f76-8390-4bcfafe07bbc"
   },
   "outputs": [
    {
     "name": "stdout",
     "output_type": "stream",
     "text": [
      "29\n",
      "0.5272727272727272\n"
     ]
    }
   ],
   "source": [
    "#Measuring the accuracy\n",
    "count=0 \n",
    "total = np.shape(validation_weed_images)[0]\n",
    "#print(total)\n",
    "for i in range(total):\n",
    "    check=clf.predict([validation_weed_images[i]])\n",
    "    if check[0] == validation_labels[i] :\n",
    "        count += 1\n",
    "print(count)\n",
    "score = count/total\n",
    "print(score)"
   ]
  },
  {
   "cell_type": "code",
   "execution_count": null,
   "metadata": {
    "colab": {},
    "colab_type": "code",
    "id": "f-J63UoCCNug"
   },
   "outputs": [],
   "source": []
  }
 ],
 "metadata": {
  "colab": {
   "collapsed_sections": [],
   "name": "weedcropsvm.ipynb",
   "provenance": []
  },
  "kernelspec": {
   "display_name": "Python 3",
   "language": "python",
   "name": "python3"
  },
  "language_info": {
   "codemirror_mode": {
    "name": "ipython",
    "version": 3
   },
   "file_extension": ".py",
   "mimetype": "text/x-python",
   "name": "python",
   "nbconvert_exporter": "python",
   "pygments_lexer": "ipython3",
   "version": "3.7.4"
  }
 },
 "nbformat": 4,
 "nbformat_minor": 4
}
